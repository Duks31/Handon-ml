{
 "cells": [
  {
   "cell_type": "markdown",
   "metadata": {},
   "source": [
    "# Set up"
   ]
  },
  {
   "cell_type": "code",
   "execution_count": 1,
   "metadata": {
    "collapsed": true
   },
   "outputs": [],
   "source": [
    "def reset_graph(seed=42):\n",
    "    tf.reset_default_graph()\n",
    "    tf.set_random_seed(seed)\n",
    "    np.random.seed(seed)"
   ]
  },
  {
   "cell_type": "markdown",
   "metadata": {},
   "source": [
    "# Creating and running a Graph"
   ]
  },
  {
   "cell_type": "code",
   "execution_count": 3,
   "metadata": {
    "collapsed": false
   },
   "outputs": [],
   "source": [
    "import tensorflow as tf\n",
    "import numpy as np\n",
    "reset_graph()\n",
    "x = tf.Variable(3, name='x')\n",
    "y = tf.Variable(4, name='y')\n",
    "f = x*x*y + y + 2"
   ]
  },
  {
   "cell_type": "code",
   "execution_count": 4,
   "metadata": {
    "collapsed": false
   },
   "outputs": [
    {
     "data": {
      "text/plain": [
       "<tf.Tensor 'add_1:0' shape=() dtype=int32>"
      ]
     },
     "execution_count": 4,
     "metadata": {},
     "output_type": "execute_result"
    }
   ],
   "source": [
    "f"
   ]
  },
  {
   "cell_type": "code",
   "execution_count": 5,
   "metadata": {
    "collapsed": false
   },
   "outputs": [
    {
     "name": "stdout",
     "output_type": "stream",
     "text": [
      "42\n"
     ]
    }
   ],
   "source": [
    "sess = tf.Session()\n",
    "sess.run(x.initializer)\n",
    "sess.run(y.initializer)\n",
    "result = sess.run(f)\n",
    "print(result)"
   ]
  },
  {
   "cell_type": "code",
   "execution_count": 6,
   "metadata": {
    "collapsed": true
   },
   "outputs": [],
   "source": [
    "sess.close()"
   ]
  },
  {
   "cell_type": "code",
   "execution_count": 7,
   "metadata": {
    "collapsed": true
   },
   "outputs": [],
   "source": [
    "with tf.Session() as sess:\n",
    "    x.initializer.run()\n",
    "    y.initializer.run()\n",
    "    result = f.eval()"
   ]
  },
  {
   "cell_type": "code",
   "execution_count": 8,
   "metadata": {
    "collapsed": false
   },
   "outputs": [
    {
     "name": "stdout",
     "output_type": "stream",
     "text": [
      "42\n"
     ]
    }
   ],
   "source": [
    "print(result)"
   ]
  },
  {
   "cell_type": "code",
   "execution_count": 9,
   "metadata": {
    "collapsed": true
   },
   "outputs": [],
   "source": [
    "init = tf.global_variables_initializer()\n",
    "with tf.Session() as sess:\n",
    "    init.run()\n",
    "    result = f.eval()"
   ]
  },
  {
   "cell_type": "code",
   "execution_count": 10,
   "metadata": {
    "collapsed": false
   },
   "outputs": [
    {
     "name": "stdout",
     "output_type": "stream",
     "text": [
      "42\n"
     ]
    }
   ],
   "source": [
    "print(result)"
   ]
  },
  {
   "cell_type": "code",
   "execution_count": 11,
   "metadata": {
    "collapsed": true
   },
   "outputs": [],
   "source": [
    "sess.close()"
   ]
  },
  {
   "cell_type": "markdown",
   "metadata": {},
   "source": [
    "# Managing graphs"
   ]
  },
  {
   "cell_type": "code",
   "execution_count": 12,
   "metadata": {
    "collapsed": false
   },
   "outputs": [
    {
     "data": {
      "text/plain": [
       "True"
      ]
     },
     "execution_count": 12,
     "metadata": {},
     "output_type": "execute_result"
    }
   ],
   "source": [
    "reset_graph()\n",
    "x1 = tf.Variable(1)\n",
    "x1.graph is tf.get_default_graph()"
   ]
  },
  {
   "cell_type": "code",
   "execution_count": 13,
   "metadata": {
    "collapsed": false
   },
   "outputs": [
    {
     "data": {
      "text/plain": [
       "True"
      ]
     },
     "execution_count": 13,
     "metadata": {},
     "output_type": "execute_result"
    }
   ],
   "source": [
    "graph = tf.Graph()\n",
    "with graph.as_default():\n",
    "    x2 = tf.Variable(2)\n",
    "x2.graph is graph"
   ]
  },
  {
   "cell_type": "code",
   "execution_count": 14,
   "metadata": {
    "collapsed": false
   },
   "outputs": [
    {
     "data": {
      "text/plain": [
       "False"
      ]
     },
     "execution_count": 14,
     "metadata": {},
     "output_type": "execute_result"
    }
   ],
   "source": [
    "x2.graph is tf.get_default_graph()"
   ]
  },
  {
   "cell_type": "code",
   "execution_count": 15,
   "metadata": {
    "collapsed": false
   },
   "outputs": [
    {
     "name": "stdout",
     "output_type": "stream",
     "text": [
      "11\n",
      "18\n"
     ]
    }
   ],
   "source": [
    "w = tf.constant(3)\n",
    "x = w + 3\n",
    "y = x + 5\n",
    "z = x * 3\n",
    "with tf.Session() as sess:\n",
    "    print(y.eval())\n",
    "    print(z.eval())"
   ]
  },
  {
   "cell_type": "code",
   "execution_count": 16,
   "metadata": {
    "collapsed": false
   },
   "outputs": [
    {
     "name": "stdout",
     "output_type": "stream",
     "text": [
      "11\n",
      "18\n"
     ]
    }
   ],
   "source": [
    "with tf.Session() as sess:\n",
    "    y_val, z_val = sess.run([y, z])\n",
    "    print(y_val)\n",
    "    print(z_val)"
   ]
  },
  {
   "cell_type": "markdown",
   "metadata": {},
   "source": [
    "# Linear Regression"
   ]
  },
  {
   "cell_type": "markdown",
   "metadata": {},
   "source": [
    "## Prepare"
   ]
  },
  {
   "cell_type": "code",
   "execution_count": 17,
   "metadata": {
    "collapsed": true
   },
   "outputs": [],
   "source": [
    "def fetch_caifornia_housing():\n",
    "    import pandas as pd\n",
    "    from sklearn.preprocessing import Imputer\n",
    "    file_path='datasets/housing/housing.csv'\n",
    "    data_df = pd.read_csv(file_path)\n",
    "    data_attribs= ['longitude','latitude','housing_median_age',\n",
    "                  'total_rooms','total_bedrooms','population',\n",
    "                  'households','median_income']\n",
    "    label_attibs = ['median_house_value']\n",
    "    imputer = Imputer(strategy='median')\n",
    "    return imputer.fit_transform(data_df[data_attribs].values), data_df[label_attibs].values"
   ]
  },
  {
   "cell_type": "code",
   "execution_count": 19,
   "metadata": {
    "collapsed": false
   },
   "outputs": [
    {
     "data": {
      "text/plain": [
       "((20640, 8), (20640, 1))"
      ]
     },
     "execution_count": 19,
     "metadata": {},
     "output_type": "execute_result"
    }
   ],
   "source": [
    "reset_graph()\n",
    "data, target = fetch_caifornia_housing()\n",
    "data.shape, target.shape"
   ]
  },
  {
   "cell_type": "code",
   "execution_count": 20,
   "metadata": {
    "collapsed": false
   },
   "outputs": [],
   "source": [
    "m, n = data.shape\n",
    "housing_data_plus_bias = np.c_[np.ones((m, 1)), data]\n",
    "X = tf.constant(housing_data_plus_bias, dtype=tf.float32, name=\"X\")\n",
    "y = tf.constant(target.reshape(-1, 1), dtype=tf.float32, name=\"y\")\n",
    "XT = tf.transpose(X)\n",
    "theta = tf.matmul(tf.matmul(tf.matrix_inverse(tf.matmul(XT, X)), XT), y)\n",
    "with tf.Session() as sess:\n",
    "    theta_value = theta.eval()"
   ]
  },
  {
   "cell_type": "code",
   "execution_count": 21,
   "metadata": {
    "collapsed": false
   },
   "outputs": [
    {
     "data": {
      "text/plain": [
       "array([[ -3.62829275e+06],\n",
       "       [ -4.32717031e+04],\n",
       "       [ -4.30518516e+04],\n",
       "       [  1.13395923e+03],\n",
       "       [ -6.47900295e+00],\n",
       "       [  8.14451599e+01],\n",
       "       [ -3.98782883e+01],\n",
       "       [  7.81404572e+01],\n",
       "       [  3.96517695e+04]], dtype=float32)"
      ]
     },
     "execution_count": 21,
     "metadata": {},
     "output_type": "execute_result"
    }
   ],
   "source": [
    "theta_value"
   ]
  },
  {
   "cell_type": "code",
   "execution_count": 23,
   "metadata": {
    "collapsed": false
   },
   "outputs": [
    {
     "name": "stdout",
     "output_type": "stream",
     "text": [
      "[[ -3.57011806e+06]\n",
      " [ -4.26104026e+04]\n",
      " [ -4.24754782e+04]\n",
      " [  1.14445085e+03]\n",
      " [ -6.62091740e+00]\n",
      " [  8.11609666e+01]\n",
      " [ -3.98732002e+01]\n",
      " [  7.93047225e+01]\n",
      " [  3.97522237e+04]]\n"
     ]
    }
   ],
   "source": [
    "X = housing_data_plus_bias\n",
    "y = target.reshape(-1,1)\n",
    "theta_numpy  = np.linalg.inv(X.T.dot(X)).dot(X.T).dot(y)\n",
    "print(theta_numpy)"
   ]
  },
  {
   "cell_type": "code",
   "execution_count": 24,
   "metadata": {
    "collapsed": false
   },
   "outputs": [
    {
     "data": {
      "text/plain": [
       "LinearRegression(copy_X=True, fit_intercept=True, n_jobs=1, normalize=False)"
      ]
     },
     "execution_count": 24,
     "metadata": {},
     "output_type": "execute_result"
    }
   ],
   "source": [
    "from sklearn.linear_model import LinearRegression\n",
    "lin_reg = LinearRegression()\n",
    "lin_reg.fit(data, target)"
   ]
  },
  {
   "cell_type": "code",
   "execution_count": 25,
   "metadata": {
    "collapsed": false
   },
   "outputs": [
    {
     "name": "stdout",
     "output_type": "stream",
     "text": [
      "[[ -3.57011806e+06]\n",
      " [ -4.26104026e+04]\n",
      " [ -4.24754782e+04]\n",
      " [  1.14445085e+03]\n",
      " [ -6.62091740e+00]\n",
      " [  8.11609666e+01]\n",
      " [ -3.98732002e+01]\n",
      " [  7.93047225e+01]\n",
      " [  3.97522237e+04]]\n"
     ]
    }
   ],
   "source": [
    "print(np.r_[lin_reg.intercept_.reshape(-1,1), lin_reg.coef_.T])"
   ]
  },
  {
   "cell_type": "markdown",
   "metadata": {},
   "source": [
    "# Using Batch Gradient Descent"
   ]
  },
  {
   "cell_type": "code",
   "execution_count": 26,
   "metadata": {
    "collapsed": true
   },
   "outputs": [],
   "source": [
    "from sklearn.preprocessing import StandardScaler\n",
    "scaler = StandardScaler()\n",
    "scale_housing_data = scaler.fit_transform(data)\n",
    "scale_housing_data_bias = np.c_[np.ones((m,1)), scale_housing_data]"
   ]
  },
  {
   "cell_type": "markdown",
   "metadata": {},
   "source": [
    "## Manually computing the gradients"
   ]
  },
  {
   "cell_type": "code",
   "execution_count": 27,
   "metadata": {
    "collapsed": false
   },
   "outputs": [],
   "source": [
    "reset_graph()\n",
    "n_epochs = 10000\n",
    "learning_rate = 0.01\n",
    "X = tf.constant(scale_housing_data_bias, dtype=tf.float32, name='X')\n",
    "y = tf.constant(target.reshape(-1, 1), dtype=tf.float32, name='y')\n",
    "theta = tf.Variable(tf.random_uniform([n+1, 1], -1.0, 1.0, seed=42), name='theta')\n",
    "y_pred = tf.matmul(X, theta, name='predictions')\n",
    "error = y_pred - y\n",
    "mse = tf.reduce_mean(tf.square(error), name='mse')\n",
    "gradients = 2/m * tf.matmul(tf.transpose(X), error)\n",
    "traning_op = tf.assign(theta, theta-learning_rate*gradients)"
   ]
  },
  {
   "cell_type": "code",
   "execution_count": 28,
   "metadata": {
    "collapsed": false
   },
   "outputs": [
    {
     "name": "stdout",
     "output_type": "stream",
     "text": [
      "Epoch 0 MSE 5.61048e+10\n",
      "Epoch 100 MSE 6.81554e+09\n",
      "Epoch 200 MSE 5.62697e+09\n",
      "Epoch 300 MSE 5.3998e+09\n",
      "Epoch 400 MSE 5.25044e+09\n",
      "Epoch 500 MSE 5.1438e+09\n",
      "Epoch 600 MSE 5.06695e+09\n",
      "Epoch 700 MSE 5.0112e+09\n",
      "Epoch 800 MSE 4.97055e+09\n",
      "Epoch 900 MSE 4.94075e+09\n",
      "Epoch 1000 MSE 4.9188e+09\n",
      "Epoch 1100 MSE 4.90256e+09\n",
      "Epoch 1200 MSE 4.89049e+09\n",
      "Epoch 1300 MSE 4.88147e+09\n",
      "Epoch 1400 MSE 4.87472e+09\n",
      "Epoch 1500 MSE 4.86962e+09\n",
      "Epoch 1600 MSE 4.86576e+09\n",
      "Epoch 1700 MSE 4.86282e+09\n",
      "Epoch 1800 MSE 4.86057e+09\n",
      "Epoch 1900 MSE 4.85884e+09\n",
      "Epoch 2000 MSE 4.8575e+09\n",
      "Epoch 2100 MSE 4.85646e+09\n",
      "Epoch 2200 MSE 4.85565e+09\n",
      "Epoch 2300 MSE 4.855e+09\n",
      "Epoch 2400 MSE 4.8545e+09\n",
      "Epoch 2500 MSE 4.8541e+09\n",
      "Epoch 2600 MSE 4.85377e+09\n",
      "Epoch 2700 MSE 4.85351e+09\n",
      "Epoch 2800 MSE 4.85331e+09\n",
      "Epoch 2900 MSE 4.85314e+09\n",
      "Epoch 3000 MSE 4.853e+09\n",
      "Epoch 3100 MSE 4.85288e+09\n",
      "Epoch 3200 MSE 4.85279e+09\n",
      "Epoch 3300 MSE 4.85271e+09\n",
      "Epoch 3400 MSE 4.85266e+09\n",
      "Epoch 3500 MSE 4.8526e+09\n",
      "Epoch 3600 MSE 4.85255e+09\n",
      "Epoch 3700 MSE 4.85251e+09\n",
      "Epoch 3800 MSE 4.85247e+09\n",
      "Epoch 3900 MSE 4.85245e+09\n",
      "Epoch 4000 MSE 4.85242e+09\n",
      "Epoch 4100 MSE 4.85241e+09\n",
      "Epoch 4200 MSE 4.8524e+09\n",
      "Epoch 4300 MSE 4.85238e+09\n",
      "Epoch 4400 MSE 4.85236e+09\n",
      "Epoch 4500 MSE 4.85235e+09\n",
      "Epoch 4600 MSE 4.85235e+09\n",
      "Epoch 4700 MSE 4.85233e+09\n",
      "Epoch 4800 MSE 4.85233e+09\n",
      "Epoch 4900 MSE 4.85232e+09\n",
      "Epoch 5000 MSE 4.85231e+09\n",
      "Epoch 5100 MSE 4.85231e+09\n",
      "Epoch 5200 MSE 4.8523e+09\n",
      "Epoch 5300 MSE 4.8523e+09\n",
      "Epoch 5400 MSE 4.8523e+09\n",
      "Epoch 5500 MSE 4.85229e+09\n",
      "Epoch 5600 MSE 4.85229e+09\n",
      "Epoch 5700 MSE 4.85229e+09\n",
      "Epoch 5800 MSE 4.85229e+09\n",
      "Epoch 5900 MSE 4.85229e+09\n",
      "Epoch 6000 MSE 4.85228e+09\n",
      "Epoch 6100 MSE 4.85228e+09\n",
      "Epoch 6200 MSE 4.85228e+09\n",
      "Epoch 6300 MSE 4.85228e+09\n",
      "Epoch 6400 MSE 4.85228e+09\n",
      "Epoch 6500 MSE 4.85228e+09\n",
      "Epoch 6600 MSE 4.85228e+09\n",
      "Epoch 6700 MSE 4.85227e+09\n",
      "Epoch 6800 MSE 4.85227e+09\n",
      "Epoch 6900 MSE 4.85227e+09\n",
      "Epoch 7000 MSE 4.85227e+09\n",
      "Epoch 7100 MSE 4.85227e+09\n",
      "Epoch 7200 MSE 4.85227e+09\n",
      "Epoch 7300 MSE 4.85227e+09\n",
      "Epoch 7400 MSE 4.85227e+09\n",
      "Epoch 7500 MSE 4.85227e+09\n",
      "Epoch 7600 MSE 4.85226e+09\n",
      "Epoch 7700 MSE 4.85227e+09\n",
      "Epoch 7800 MSE 4.85227e+09\n",
      "Epoch 7900 MSE 4.85226e+09\n",
      "Epoch 8000 MSE 4.85227e+09\n",
      "Epoch 8100 MSE 4.85227e+09\n",
      "Epoch 8200 MSE 4.85227e+09\n",
      "Epoch 8300 MSE 4.85227e+09\n",
      "Epoch 8400 MSE 4.85226e+09\n",
      "Epoch 8500 MSE 4.85226e+09\n",
      "Epoch 8600 MSE 4.85226e+09\n",
      "Epoch 8700 MSE 4.85226e+09\n",
      "Epoch 8800 MSE 4.85226e+09\n",
      "Epoch 8900 MSE 4.85227e+09\n",
      "Epoch 9000 MSE 4.85226e+09\n",
      "Epoch 9100 MSE 4.85226e+09\n",
      "Epoch 9200 MSE 4.85226e+09\n",
      "Epoch 9300 MSE 4.85226e+09\n",
      "Epoch 9400 MSE 4.85226e+09\n",
      "Epoch 9500 MSE 4.85226e+09\n",
      "Epoch 9600 MSE 4.85226e+09\n",
      "Epoch 9700 MSE 4.85226e+09\n",
      "Epoch 9800 MSE 4.85226e+09\n",
      "Epoch 9900 MSE 4.85226e+09\n"
     ]
    }
   ],
   "source": [
    "init = tf.global_variables_initializer()\n",
    "with tf.Session() as sess:\n",
    "    sess.run(init)\n",
    "    for epoch in range(n_epochs):\n",
    "        if epoch % 100 ==0:\n",
    "            print(\"Epoch\", epoch, 'MSE', mse.eval())\n",
    "        sess.run(traning_op)\n",
    "    best_theta=theta.eval()"
   ]
  },
  {
   "cell_type": "code",
   "execution_count": 29,
   "metadata": {
    "collapsed": false
   },
   "outputs": [
    {
     "data": {
      "text/plain": [
       "array([[ 206855.4375    ],\n",
       "       [ -85352.828125  ],\n",
       "       [ -90710.125     ],\n",
       "       [  14403.05273438],\n",
       "       [ -14418.48242188],\n",
       "       [  33898.39453125],\n",
       "       [ -45185.1484375 ],\n",
       "       [  30463.27148438],\n",
       "       [  75513.5859375 ]], dtype=float32)"
      ]
     },
     "execution_count": 29,
     "metadata": {},
     "output_type": "execute_result"
    }
   ],
   "source": [
    "best_theta"
   ]
  },
  {
   "cell_type": "markdown",
   "metadata": {},
   "source": [
    "### using autodiff"
   ]
  },
  {
   "cell_type": "code",
   "execution_count": 30,
   "metadata": {
    "collapsed": true
   },
   "outputs": [],
   "source": [
    "reset_graph()\n",
    "n_epochs = 10000\n",
    "learning_rate = 0.01\n",
    "X = tf.constant(scale_housing_data_bias, dtype=tf.float32, name='X')\n",
    "y = tf.constant(target.reshape(-1, 1), dtype=tf.float32, name='y')\n",
    "theta = tf.Variable(tf.random_uniform([n+1, 1], -1.0, 1.0, seed=42), name='theta')\n",
    "y_pred = tf.matmul(X, theta, name='predictions')\n",
    "error = y_pred - y\n",
    "mse = tf.reduce_mean(tf.square(error), name='mse')\n",
    "gradients = tf.gradients(mse, [theta])[0]\n",
    "traning_op = tf.assign(theta, theta-learning_rate*gradients)"
   ]
  },
  {
   "cell_type": "code",
   "execution_count": 31,
   "metadata": {
    "collapsed": false
   },
   "outputs": [
    {
     "name": "stdout",
     "output_type": "stream",
     "text": [
      "Epoch 0 MSE 5.61048e+10\n",
      "Epoch 100 MSE 6.81554e+09\n",
      "Epoch 200 MSE 5.62697e+09\n",
      "Epoch 300 MSE 5.3998e+09\n",
      "Epoch 400 MSE 5.25044e+09\n",
      "Epoch 500 MSE 5.1438e+09\n",
      "Epoch 600 MSE 5.06695e+09\n",
      "Epoch 700 MSE 5.0112e+09\n",
      "Epoch 800 MSE 4.97055e+09\n",
      "Epoch 900 MSE 4.94075e+09\n",
      "Epoch 1000 MSE 4.9188e+09\n",
      "Epoch 1100 MSE 4.90256e+09\n",
      "Epoch 1200 MSE 4.89049e+09\n",
      "Epoch 1300 MSE 4.88147e+09\n",
      "Epoch 1400 MSE 4.87472e+09\n",
      "Epoch 1500 MSE 4.86962e+09\n",
      "Epoch 1600 MSE 4.86576e+09\n",
      "Epoch 1700 MSE 4.86282e+09\n",
      "Epoch 1800 MSE 4.86057e+09\n",
      "Epoch 1900 MSE 4.85884e+09\n",
      "Epoch 2000 MSE 4.8575e+09\n",
      "Epoch 2100 MSE 4.85646e+09\n",
      "Epoch 2200 MSE 4.85565e+09\n",
      "Epoch 2300 MSE 4.855e+09\n",
      "Epoch 2400 MSE 4.8545e+09\n",
      "Epoch 2500 MSE 4.8541e+09\n",
      "Epoch 2600 MSE 4.85377e+09\n",
      "Epoch 2700 MSE 4.85351e+09\n",
      "Epoch 2800 MSE 4.85331e+09\n",
      "Epoch 2900 MSE 4.85314e+09\n",
      "Epoch 3000 MSE 4.853e+09\n",
      "Epoch 3100 MSE 4.85288e+09\n",
      "Epoch 3200 MSE 4.85279e+09\n",
      "Epoch 3300 MSE 4.85271e+09\n",
      "Epoch 3400 MSE 4.85265e+09\n",
      "Epoch 3500 MSE 4.8526e+09\n",
      "Epoch 3600 MSE 4.85255e+09\n",
      "Epoch 3700 MSE 4.85251e+09\n",
      "Epoch 3800 MSE 4.85247e+09\n",
      "Epoch 3900 MSE 4.85245e+09\n",
      "Epoch 4000 MSE 4.85242e+09\n",
      "Epoch 4100 MSE 4.85241e+09\n",
      "Epoch 4200 MSE 4.8524e+09\n",
      "Epoch 4300 MSE 4.85238e+09\n",
      "Epoch 4400 MSE 4.85236e+09\n",
      "Epoch 4500 MSE 4.85235e+09\n",
      "Epoch 4600 MSE 4.85235e+09\n",
      "Epoch 4700 MSE 4.85233e+09\n",
      "Epoch 4800 MSE 4.85233e+09\n",
      "Epoch 4900 MSE 4.85232e+09\n",
      "Epoch 5000 MSE 4.85231e+09\n",
      "Epoch 5100 MSE 4.85231e+09\n",
      "Epoch 5200 MSE 4.8523e+09\n",
      "Epoch 5300 MSE 4.8523e+09\n",
      "Epoch 5400 MSE 4.8523e+09\n",
      "Epoch 5500 MSE 4.85229e+09\n",
      "Epoch 5600 MSE 4.85229e+09\n",
      "Epoch 5700 MSE 4.85229e+09\n",
      "Epoch 5800 MSE 4.85229e+09\n",
      "Epoch 5900 MSE 4.85229e+09\n",
      "Epoch 6000 MSE 4.85228e+09\n",
      "Epoch 6100 MSE 4.85228e+09\n",
      "Epoch 6200 MSE 4.85228e+09\n",
      "Epoch 6300 MSE 4.85228e+09\n",
      "Epoch 6400 MSE 4.85228e+09\n",
      "Epoch 6500 MSE 4.85228e+09\n",
      "Epoch 6600 MSE 4.85228e+09\n",
      "Epoch 6700 MSE 4.85227e+09\n",
      "Epoch 6800 MSE 4.85227e+09\n",
      "Epoch 6900 MSE 4.85227e+09\n",
      "Epoch 7000 MSE 4.85227e+09\n",
      "Epoch 7100 MSE 4.85227e+09\n",
      "Epoch 7200 MSE 4.85227e+09\n",
      "Epoch 7300 MSE 4.85227e+09\n",
      "Epoch 7400 MSE 4.85227e+09\n",
      "Epoch 7500 MSE 4.85227e+09\n",
      "Epoch 7600 MSE 4.85226e+09\n",
      "Epoch 7700 MSE 4.85227e+09\n",
      "Epoch 7800 MSE 4.85227e+09\n",
      "Epoch 7900 MSE 4.85226e+09\n",
      "Epoch 8000 MSE 4.85227e+09\n",
      "Epoch 8100 MSE 4.85227e+09\n",
      "Epoch 8200 MSE 4.85227e+09\n",
      "Epoch 8300 MSE 4.85227e+09\n",
      "Epoch 8400 MSE 4.85226e+09\n",
      "Epoch 8500 MSE 4.85226e+09\n",
      "Epoch 8600 MSE 4.85226e+09\n",
      "Epoch 8700 MSE 4.85226e+09\n",
      "Epoch 8800 MSE 4.85226e+09\n",
      "Epoch 8900 MSE 4.85227e+09\n",
      "Epoch 9000 MSE 4.85226e+09\n",
      "Epoch 9100 MSE 4.85226e+09\n",
      "Epoch 9200 MSE 4.85226e+09\n",
      "Epoch 9300 MSE 4.85226e+09\n",
      "Epoch 9400 MSE 4.85226e+09\n",
      "Epoch 9500 MSE 4.85226e+09\n",
      "Epoch 9600 MSE 4.85226e+09\n",
      "Epoch 9700 MSE 4.85226e+09\n",
      "Epoch 9800 MSE 4.85226e+09\n",
      "Epoch 9900 MSE 4.85226e+09\n"
     ]
    }
   ],
   "source": [
    "init = tf.global_variables_initializer()\n",
    "with tf.Session() as sess:\n",
    "    sess.run(init)\n",
    "    for epoch in range(n_epochs):\n",
    "        if epoch % 100 ==0:\n",
    "            print(\"Epoch\", epoch, 'MSE', mse.eval())\n",
    "        sess.run(traning_op)\n",
    "    best_theta=theta.eval()"
   ]
  },
  {
   "cell_type": "code",
   "execution_count": 32,
   "metadata": {
    "collapsed": false
   },
   "outputs": [
    {
     "data": {
      "text/plain": [
       "array([[ 206855.4375    ],\n",
       "       [ -85352.84375   ],\n",
       "       [ -90710.140625  ],\n",
       "       [  14403.04980469],\n",
       "       [ -14418.47070312],\n",
       "       [  33898.37890625],\n",
       "       [ -45185.15234375],\n",
       "       [  30463.27539062],\n",
       "       [  75513.578125  ]], dtype=float32)"
      ]
     },
     "execution_count": 32,
     "metadata": {},
     "output_type": "execute_result"
    }
   ],
   "source": [
    "best_theta"
   ]
  },
  {
   "cell_type": "code",
   "execution_count": 33,
   "metadata": {
    "collapsed": true
   },
   "outputs": [],
   "source": [
    "def my_func(a, b):\n",
    "    z = 0\n",
    "    for i in range(100):\n",
    "        z = a * np.cos(z+i) + z* np.sin(b-i)\n",
    "    return z"
   ]
  },
  {
   "cell_type": "code",
   "execution_count": 34,
   "metadata": {
    "collapsed": true
   },
   "outputs": [],
   "source": [
    "reset_graph()\n",
    "a = tf.Variable(0.2, name='a')\n",
    "b = tf.Variable(0.3, name='b')\n",
    "z = tf.Variable(0.0, name='z0')\n",
    "for i in range(100):\n",
    "    z = a * tf.cos(z+i) + z*tf.sin(b-i)\n",
    "grads = tf.gradients(z, [a,b])\n",
    "init = tf.global_variables_initializer()"
   ]
  },
  {
   "cell_type": "code",
   "execution_count": 35,
   "metadata": {
    "collapsed": false
   },
   "outputs": [
    {
     "name": "stdout",
     "output_type": "stream",
     "text": [
      "-0.212537\n",
      "[-1.1388494, 0.19671395]\n"
     ]
    }
   ],
   "source": [
    "with tf.Session() as sess:\n",
    "    init.run()\n",
    "    print(z.eval())\n",
    "    print(sess.run(grads))"
   ]
  },
  {
   "cell_type": "markdown",
   "metadata": {},
   "source": [
    "### Using a GradientDescentOptimizer"
   ]
  },
  {
   "cell_type": "code",
   "execution_count": 40,
   "metadata": {
    "collapsed": true
   },
   "outputs": [],
   "source": [
    "reset_graph()\n",
    "n_epochs = 1000\n",
    "learning_rate = 0.001\n",
    "X = tf.Variable(scale_housing_data_bias, dtype=tf.float32, name='X')\n",
    "y = tf.Variable(target.reshape(-1, 1), dtype=tf.float32, name='y')\n",
    "theta = tf.Variable(tf.random_uniform([n+1, 1], -1.0, 1.0, seed=42), name='theta')\n",
    "y_pred = tf.matmul(X, theta, name='prediction')\n",
    "error = y_pred - y\n",
    "mse = tf.reduce_mean(tf.square(error), name='mse')"
   ]
  },
  {
   "cell_type": "code",
   "execution_count": 41,
   "metadata": {
    "collapsed": true
   },
   "outputs": [],
   "source": [
    "optimizer = tf.train.GradientDescentOptimizer(learning_rate=learning_rate)\n",
    "traing_op = optimizer.minimize(mse)"
   ]
  },
  {
   "cell_type": "code",
   "execution_count": 42,
   "metadata": {
    "collapsed": false
   },
   "outputs": [
    {
     "name": "stdout",
     "output_type": "stream",
     "text": [
      "Epoch 0 MSE= 5.61048e+10\n",
      "Epoch 100 MSE= nan\n",
      "Epoch 200 MSE= nan\n",
      "Epoch 300 MSE= nan\n",
      "Epoch 400 MSE= nan\n",
      "Epoch 500 MSE= nan\n",
      "Epoch 600 MSE= nan\n",
      "Epoch 700 MSE= nan\n",
      "Epoch 800 MSE= nan\n",
      "Epoch 900 MSE= nan\n",
      "[[ nan]\n",
      " [ nan]\n",
      " [ nan]\n",
      " [ nan]\n",
      " [ nan]\n",
      " [ nan]\n",
      " [ nan]\n",
      " [ nan]\n",
      " [ nan]]\n"
     ]
    }
   ],
   "source": [
    "init = tf.global_variables_initializer()\n",
    "with tf.Session() as sess:\n",
    "    sess.run(init)\n",
    "    for epoch in range(n_epochs):\n",
    "        if epoch % 100 == 0:\n",
    "            print('Epoch', epoch, 'MSE=', mse.eval())\n",
    "        sess.run(traing_op)\n",
    "    best_theta = theta.eval()\n",
    "print(best_theta)"
   ]
  },
  {
   "cell_type": "markdown",
   "metadata": {},
   "source": [
    "# Feeding data to the training algorithm"
   ]
  },
  {
   "cell_type": "markdown",
   "metadata": {},
   "source": [
    "## Palceholder nodes"
   ]
  },
  {
   "cell_type": "code",
   "execution_count": 43,
   "metadata": {
    "collapsed": true
   },
   "outputs": [],
   "source": [
    "reset_graph()\n",
    "A = tf.placeholder(tf.float32, shape=(None, 3))\n",
    "B = A + 5\n",
    "with tf.Session() as sess:\n",
    "    B_val_1 = B.eval(feed_dict={A:[[1,2,3]]})\n",
    "    B_val_2 = B.eval(feed_dict={A:[[4,5,6],[7,8,9]]})"
   ]
  },
  {
   "cell_type": "code",
   "execution_count": 44,
   "metadata": {
    "collapsed": false
   },
   "outputs": [
    {
     "data": {
      "text/plain": [
       "array([[ 6.,  7.,  8.]], dtype=float32)"
      ]
     },
     "execution_count": 44,
     "metadata": {},
     "output_type": "execute_result"
    }
   ],
   "source": [
    "B_val_1"
   ]
  },
  {
   "cell_type": "code",
   "execution_count": 45,
   "metadata": {
    "collapsed": false
   },
   "outputs": [
    {
     "data": {
      "text/plain": [
       "array([[  9.,  10.,  11.],\n",
       "       [ 12.,  13.,  14.]], dtype=float32)"
      ]
     },
     "execution_count": 45,
     "metadata": {},
     "output_type": "execute_result"
    }
   ],
   "source": [
    "B_val_2"
   ]
  },
  {
   "cell_type": "markdown",
   "metadata": {},
   "source": [
    "# Name scopes"
   ]
  },
  {
   "cell_type": "code",
   "execution_count": 46,
   "metadata": {
    "collapsed": false
   },
   "outputs": [
    {
     "name": "stdout",
     "output_type": "stream",
     "text": [
      "a\n",
      "a_1\n",
      "param/a\n",
      "param_1/a\n"
     ]
    }
   ],
   "source": [
    "reset_graph()\n",
    "a1 = tf.Variable(0, name='a')\n",
    "a2 = tf.Variable(0, name='a')\n",
    "with tf.name_scope('param'):\n",
    "    a3 = tf.Variable(0, name='a')\n",
    "with tf.name_scope('param'):\n",
    "    a4 = tf.Variable(0, name='a')\n",
    "for node in (a1, a2, a3, a4):\n",
    "    print(node.op.name)"
   ]
  },
  {
   "cell_type": "markdown",
   "metadata": {},
   "source": [
    "# Modularity"
   ]
  },
  {
   "cell_type": "code",
   "execution_count": 47,
   "metadata": {
    "collapsed": true
   },
   "outputs": [],
   "source": [
    "reset_graph()\n",
    "n_features = 3\n",
    "X = tf.placeholder(tf.float32, shape=(None, n_features), name='X')\n",
    "w1 = tf.Variable(tf.random_normal((n_features, 1)), name='weights1')\n",
    "w2 = tf.Variable(tf.random_normal((n_features, 1)), name='weights2')\n",
    "b1 = tf.Variable(0.0, name='bias1')\n",
    "b2 = tf.Variable(0.0, name='bias2')\n",
    "z1 = tf.add(tf.matmul(X, w1), b1, name='z1')\n",
    "z2 = tf.add(tf.matmul(X, w2), b2, name='z2')\n",
    "relu1 = tf.maximum(z1, 0, name='relu1')\n",
    "relu2 = tf.maximum(z2, 0, name='relu2')\n",
    "ouput = tf.add(relu1, relu2, name='output')"
   ]
  },
  {
   "cell_type": "code",
   "execution_count": 51,
   "metadata": {
    "collapsed": false
   },
   "outputs": [],
   "source": [
    "reset_graph()\n",
    "def relu(X):\n",
    "    w_shape = (int(X.get_shape()[1]), 1)\n",
    "    w = tf.Variable(tf.random_normal(w_shape), name='weights')\n",
    "    b = tf.Variable(0.0, name='bias')\n",
    "    z = tf.add(tf.matmul(X, w), b, name='z')\n",
    "    return tf.maximum(z, 0., name='relu')"
   ]
  },
  {
   "cell_type": "code",
   "execution_count": 52,
   "metadata": {
    "collapsed": false
   },
   "outputs": [],
   "source": [
    "n_features = 3\n",
    "X = tf.placeholder(tf.float32, shape=(None, n_features), name='X')\n",
    "relus = [relu(X) for i in range(5)]\n",
    "ouput = tf.add_n(relus, name='output')"
   ]
  },
  {
   "cell_type": "code",
   "execution_count": 53,
   "metadata": {
    "collapsed": true
   },
   "outputs": [],
   "source": [
    "file_writer = tf.summary.FileWriter('logs/relu1', tf.get_default_graph())"
   ]
  },
  {
   "cell_type": "code",
   "execution_count": 54,
   "metadata": {
    "collapsed": true
   },
   "outputs": [],
   "source": [
    "file_writer.close()"
   ]
  },
  {
   "cell_type": "markdown",
   "metadata": {},
   "source": [
    "# Sharing Variables"
   ]
  },
  {
   "cell_type": "code",
   "execution_count": 56,
   "metadata": {
    "collapsed": false
   },
   "outputs": [],
   "source": [
    "reset_graph()\n",
    "def relu(X, threshold):\n",
    "    with tf.name_scope('relu'):\n",
    "        w_shape = (int(X.get_shape()[1]), 1)\n",
    "        w = tf.Variable(tf.random_normal(w_shape), name='weights')\n",
    "        b = tf.Variable(0.0, name='bias')\n",
    "        z = tf.add(tf.matmul(X, w), b, name='z')\n",
    "        return tf.maximum(z, 0., name='max')"
   ]
  },
  {
   "cell_type": "code",
   "execution_count": 57,
   "metadata": {
    "collapsed": true
   },
   "outputs": [],
   "source": [
    "threshold = tf.Variable(0.0, name='threshold')\n",
    "X = tf.placeholder(tf.float32, shape=(None, n_features), name='X')\n",
    "relus = [relu(X, threshold) for _ in range(5)]\n",
    "output = tf.add_n(relus, name='output')"
   ]
  },
  {
   "cell_type": "code",
   "execution_count": 59,
   "metadata": {
    "collapsed": true
   },
   "outputs": [],
   "source": [
    "reset_graph()\n",
    "with tf.variable_scope('relu'):\n",
    "    threshold = tf.get_variable('threshold', shape=(),\n",
    "                               initializer=tf.constant_initializer(0.0))"
   ]
  },
  {
   "cell_type": "code",
   "execution_count": 60,
   "metadata": {
    "collapsed": true
   },
   "outputs": [],
   "source": [
    "with tf.variable_scope('relu', reuse=True):\n",
    "    threshold =tf.get_variable('threshold')"
   ]
  },
  {
   "cell_type": "code",
   "execution_count": 61,
   "metadata": {
    "collapsed": true
   },
   "outputs": [],
   "source": [
    "with tf.variable_scope('relu') as scope:\n",
    "    scope.reuse_variables()\n",
    "    threshold = tf.get_variable('threshold')"
   ]
  },
  {
   "cell_type": "code",
   "execution_count": null,
   "metadata": {
    "collapsed": true
   },
   "outputs": [],
   "source": []
  }
 ],
 "metadata": {
  "kernelspec": {
   "display_name": "Python 3",
   "language": "python",
   "name": "python3"
  },
  "language_info": {
   "codemirror_mode": {
    "name": "ipython",
    "version": 3
   },
   "file_extension": ".py",
   "mimetype": "text/x-python",
   "name": "python",
   "nbconvert_exporter": "python",
   "pygments_lexer": "ipython3",
   "version": "3.6.0"
  }
 },
 "nbformat": 4,
 "nbformat_minor": 2
}
