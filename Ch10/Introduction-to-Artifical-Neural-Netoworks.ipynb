{
 "cells": [
  {
   "cell_type": "markdown",
   "metadata": {},
   "source": [
    "# Training An MPL with TensorFlow's High-Level API"
   ]
  },
  {
   "cell_type": "code",
   "execution_count": 1,
   "metadata": {
    "collapsed": false
   },
   "outputs": [],
   "source": [
    "import numpy as np\n",
    "from sklearn.datasets import fetch_mldata\n",
    "mnist = fetch_mldata('MNIST original')\n",
    "data = mnist['data']\n",
    "target = mnist['target'].astype(np.int32)\n",
    "X_train = data[:60000]\n",
    "X_test = data[60000:]\n",
    "y_train = target[:60000]\n",
    "y_test = target[60000:]"
   ]
  },
  {
   "cell_type": "code",
   "execution_count": 2,
   "metadata": {
    "collapsed": true
   },
   "outputs": [],
   "source": [
    "import tensorflow as tf"
   ]
  },
  {
   "cell_type": "code",
   "execution_count": 3,
   "metadata": {
    "collapsed": false
   },
   "outputs": [
    {
     "name": "stdout",
     "output_type": "stream",
     "text": [
      "WARNING:tensorflow:Using temporary folder as model directory: /var/folders/k9/2cxh1k2115s_lw4wtq9mzj9m0000gp/T/tmpkcz6y_lp\n",
      "INFO:tensorflow:Using default config.\n",
      "INFO:tensorflow:Using config: {'_task_type': None, '_task_id': 0, '_cluster_spec': <tensorflow.python.training.server_lib.ClusterSpec object at 0x122d31ba8>, '_master': '', '_num_ps_replicas': 0, '_environment': 'local', '_is_chief': True, '_evaluation_master': '', '_tf_config': gpu_options {\n",
      "  per_process_gpu_memory_fraction: 1\n",
      "}\n",
      ", '_tf_random_seed': None, '_save_summary_steps': 100, '_save_checkpoints_secs': 600, '_save_checkpoints_steps': None, '_keep_checkpoint_max': 5, '_keep_checkpoint_every_n_hours': 10000}\n",
      "WARNING:tensorflow:From <ipython-input-3-4cf46adc64e8>:4: calling BaseEstimator.fit (from tensorflow.contrib.learn.python.learn.estimators.estimator) with x is deprecated and will be removed after 2016-12-01.\n",
      "Instructions for updating:\n",
      "Estimator is decoupled from Scikit Learn interface by moving into\n",
      "separate class SKCompat. Arguments x, y and batch_size are only\n",
      "available in the SKCompat class, Estimator will only accept input_fn.\n",
      "Example conversion:\n",
      "  est = Estimator(...) -> est = SKCompat(Estimator(...))\n",
      "WARNING:tensorflow:From <ipython-input-3-4cf46adc64e8>:4: calling BaseEstimator.fit (from tensorflow.contrib.learn.python.learn.estimators.estimator) with y is deprecated and will be removed after 2016-12-01.\n",
      "Instructions for updating:\n",
      "Estimator is decoupled from Scikit Learn interface by moving into\n",
      "separate class SKCompat. Arguments x, y and batch_size are only\n",
      "available in the SKCompat class, Estimator will only accept input_fn.\n",
      "Example conversion:\n",
      "  est = Estimator(...) -> est = SKCompat(Estimator(...))\n",
      "WARNING:tensorflow:From <ipython-input-3-4cf46adc64e8>:4: calling BaseEstimator.fit (from tensorflow.contrib.learn.python.learn.estimators.estimator) with batch_size is deprecated and will be removed after 2016-12-01.\n",
      "Instructions for updating:\n",
      "Estimator is decoupled from Scikit Learn interface by moving into\n",
      "separate class SKCompat. Arguments x, y and batch_size are only\n",
      "available in the SKCompat class, Estimator will only accept input_fn.\n",
      "Example conversion:\n",
      "  est = Estimator(...) -> est = SKCompat(Estimator(...))\n",
      "WARNING:tensorflow:From /Users/gaufung/anaconda/lib/python3.6/site-packages/tensorflow/contrib/learn/python/learn/estimators/head.py:1362: scalar_summary (from tensorflow.python.ops.logging_ops) is deprecated and will be removed after 2016-11-30.\n",
      "Instructions for updating:\n",
      "Please switch to tf.summary.scalar. Note that tf.summary.scalar uses the node name instead of the tag. This means that TensorFlow will automatically de-duplicate summary names based on the scope they are created in. Also, passing a tensor or list of tags to a scalar summary op is no longer supported.\n"
     ]
    },
    {
     "name": "stderr",
     "output_type": "stream",
     "text": [
      "/Users/gaufung/anaconda/lib/python3.6/site-packages/tensorflow/python/util/deprecation.py:247: FutureWarning: comparison to `None` will result in an elementwise object comparison in the future.\n",
      "  equality = a == b\n"
     ]
    },
    {
     "name": "stdout",
     "output_type": "stream",
     "text": [
      "INFO:tensorflow:Create CheckpointSaverHook.\n",
      "INFO:tensorflow:Saving checkpoints for 1 into /var/folders/k9/2cxh1k2115s_lw4wtq9mzj9m0000gp/T/tmpkcz6y_lp/model.ckpt.\n",
      "INFO:tensorflow:loss = 119.205, step = 1\n",
      "INFO:tensorflow:global_step/sec: 243.044\n",
      "INFO:tensorflow:loss = 1.18667, step = 101\n",
      "INFO:tensorflow:global_step/sec: 189.317\n",
      "INFO:tensorflow:loss = 0.438482, step = 201\n",
      "INFO:tensorflow:global_step/sec: 167.619\n",
      "INFO:tensorflow:loss = 0.276832, step = 301\n",
      "INFO:tensorflow:global_step/sec: 252.059\n",
      "INFO:tensorflow:loss = 0.649554, step = 401\n",
      "INFO:tensorflow:global_step/sec: 229.224\n",
      "INFO:tensorflow:loss = 0.129284, step = 501\n",
      "INFO:tensorflow:global_step/sec: 252.058\n",
      "INFO:tensorflow:loss = 0.62347, step = 601\n",
      "INFO:tensorflow:global_step/sec: 251.057\n",
      "INFO:tensorflow:loss = 0.343665, step = 701\n",
      "INFO:tensorflow:global_step/sec: 251.541\n",
      "INFO:tensorflow:loss = 1.31264, step = 801\n",
      "INFO:tensorflow:global_step/sec: 249.581\n",
      "INFO:tensorflow:loss = 0.667041, step = 901\n",
      "INFO:tensorflow:global_step/sec: 250.218\n",
      "INFO:tensorflow:loss = 0.527667, step = 1001\n",
      "INFO:tensorflow:global_step/sec: 249.164\n",
      "INFO:tensorflow:loss = 0.41319, step = 1101\n",
      "INFO:tensorflow:global_step/sec: 249.956\n",
      "INFO:tensorflow:loss = 0.970296, step = 1201\n",
      "INFO:tensorflow:global_step/sec: 249.674\n",
      "INFO:tensorflow:loss = 0.43888, step = 1301\n",
      "INFO:tensorflow:global_step/sec: 248.018\n",
      "INFO:tensorflow:loss = 0.327689, step = 1401\n",
      "INFO:tensorflow:global_step/sec: 248.434\n",
      "INFO:tensorflow:loss = 0.168162, step = 1501\n",
      "INFO:tensorflow:global_step/sec: 248.65\n",
      "INFO:tensorflow:loss = 0.431937, step = 1601\n",
      "INFO:tensorflow:global_step/sec: 248.751\n",
      "INFO:tensorflow:loss = 0.524283, step = 1701\n",
      "INFO:tensorflow:global_step/sec: 247.587\n",
      "INFO:tensorflow:loss = 0.462207, step = 1801\n",
      "INFO:tensorflow:global_step/sec: 247.634\n",
      "INFO:tensorflow:loss = 0.410637, step = 1901\n",
      "INFO:tensorflow:global_step/sec: 248.473\n",
      "INFO:tensorflow:loss = 0.967669, step = 2001\n",
      "INFO:tensorflow:global_step/sec: 245.95\n",
      "INFO:tensorflow:loss = 0.250739, step = 2101\n",
      "INFO:tensorflow:global_step/sec: 247.576\n",
      "INFO:tensorflow:loss = 0.113107, step = 2201\n",
      "INFO:tensorflow:global_step/sec: 247.456\n",
      "INFO:tensorflow:loss = 0.317445, step = 2301\n",
      "INFO:tensorflow:global_step/sec: 232.42\n",
      "INFO:tensorflow:loss = 0.238288, step = 2401\n",
      "INFO:tensorflow:global_step/sec: 241.468\n",
      "INFO:tensorflow:loss = 0.222756, step = 2501\n",
      "INFO:tensorflow:global_step/sec: 243.136\n",
      "INFO:tensorflow:loss = 0.301977, step = 2601\n",
      "INFO:tensorflow:global_step/sec: 243.8\n",
      "INFO:tensorflow:loss = 0.296254, step = 2701\n",
      "INFO:tensorflow:global_step/sec: 243.501\n",
      "INFO:tensorflow:loss = 0.0480521, step = 2801\n",
      "INFO:tensorflow:global_step/sec: 242.296\n",
      "INFO:tensorflow:loss = 0.333649, step = 2901\n",
      "INFO:tensorflow:global_step/sec: 251.347\n",
      "INFO:tensorflow:loss = 0.245564, step = 3001\n",
      "INFO:tensorflow:global_step/sec: 255.092\n",
      "INFO:tensorflow:loss = 0.335231, step = 3101\n",
      "INFO:tensorflow:global_step/sec: 254.648\n",
      "INFO:tensorflow:loss = 0.85837, step = 3201\n",
      "INFO:tensorflow:global_step/sec: 256.398\n",
      "INFO:tensorflow:loss = 0.286941, step = 3301\n",
      "INFO:tensorflow:global_step/sec: 256.223\n",
      "INFO:tensorflow:loss = 0.246355, step = 3401\n",
      "INFO:tensorflow:global_step/sec: 254.664\n",
      "INFO:tensorflow:loss = 0.12892, step = 3501\n",
      "INFO:tensorflow:global_step/sec: 256.872\n",
      "INFO:tensorflow:loss = 0.246909, step = 3601\n",
      "INFO:tensorflow:global_step/sec: 260.679\n",
      "INFO:tensorflow:loss = 0.301898, step = 3701\n",
      "INFO:tensorflow:global_step/sec: 255.521\n",
      "INFO:tensorflow:loss = 0.17146, step = 3801\n",
      "INFO:tensorflow:global_step/sec: 253.725\n",
      "INFO:tensorflow:loss = 0.0866635, step = 3901\n",
      "INFO:tensorflow:global_step/sec: 249.2\n",
      "INFO:tensorflow:loss = 0.0715576, step = 4001\n",
      "INFO:tensorflow:global_step/sec: 255.347\n",
      "INFO:tensorflow:loss = 0.0710889, step = 4101\n",
      "INFO:tensorflow:global_step/sec: 251.306\n",
      "INFO:tensorflow:loss = 0.138943, step = 4201\n",
      "INFO:tensorflow:global_step/sec: 257.413\n",
      "INFO:tensorflow:loss = 0.381387, step = 4301\n",
      "INFO:tensorflow:global_step/sec: 255.351\n",
      "INFO:tensorflow:loss = 0.31794, step = 4401\n",
      "INFO:tensorflow:global_step/sec: 255.025\n",
      "INFO:tensorflow:loss = 0.147332, step = 4501\n",
      "INFO:tensorflow:global_step/sec: 253.618\n",
      "INFO:tensorflow:loss = 0.247133, step = 4601\n",
      "INFO:tensorflow:global_step/sec: 256.054\n",
      "INFO:tensorflow:loss = 0.176015, step = 4701\n",
      "INFO:tensorflow:global_step/sec: 246.017\n",
      "INFO:tensorflow:loss = 0.162733, step = 4801\n",
      "INFO:tensorflow:global_step/sec: 253.197\n",
      "INFO:tensorflow:loss = 0.244326, step = 4901\n",
      "INFO:tensorflow:global_step/sec: 256.094\n",
      "INFO:tensorflow:loss = 0.227482, step = 5001\n",
      "INFO:tensorflow:global_step/sec: 254.743\n",
      "INFO:tensorflow:loss = 0.168847, step = 5101\n",
      "INFO:tensorflow:global_step/sec: 254.872\n",
      "INFO:tensorflow:loss = 0.061712, step = 5201\n",
      "INFO:tensorflow:global_step/sec: 258.782\n",
      "INFO:tensorflow:loss = 0.165504, step = 5301\n",
      "INFO:tensorflow:global_step/sec: 253.945\n",
      "INFO:tensorflow:loss = 0.296639, step = 5401\n",
      "INFO:tensorflow:global_step/sec: 252.328\n",
      "INFO:tensorflow:loss = 0.195351, step = 5501\n",
      "INFO:tensorflow:global_step/sec: 254.005\n",
      "INFO:tensorflow:loss = 0.103283, step = 5601\n",
      "INFO:tensorflow:global_step/sec: 258.441\n",
      "INFO:tensorflow:loss = 0.169936, step = 5701\n",
      "INFO:tensorflow:global_step/sec: 252.615\n",
      "INFO:tensorflow:loss = 0.382691, step = 5801\n",
      "INFO:tensorflow:global_step/sec: 252.783\n",
      "INFO:tensorflow:loss = 0.0671861, step = 5901\n",
      "INFO:tensorflow:global_step/sec: 259.649\n",
      "INFO:tensorflow:loss = 0.122068, step = 6001\n",
      "INFO:tensorflow:global_step/sec: 252.733\n",
      "INFO:tensorflow:loss = 0.153551, step = 6101\n",
      "INFO:tensorflow:global_step/sec: 253.865\n",
      "INFO:tensorflow:loss = 0.0784549, step = 6201\n",
      "INFO:tensorflow:global_step/sec: 253.405\n",
      "INFO:tensorflow:loss = 0.173281, step = 6301\n",
      "INFO:tensorflow:global_step/sec: 255.307\n",
      "INFO:tensorflow:loss = 0.254396, step = 6401\n",
      "INFO:tensorflow:global_step/sec: 252.949\n",
      "INFO:tensorflow:loss = 0.0425169, step = 6501\n",
      "INFO:tensorflow:global_step/sec: 254.358\n",
      "INFO:tensorflow:loss = 0.403638, step = 6601\n",
      "INFO:tensorflow:global_step/sec: 253.621\n",
      "INFO:tensorflow:loss = 0.24629, step = 6701\n",
      "INFO:tensorflow:global_step/sec: 253.331\n",
      "INFO:tensorflow:loss = 0.090927, step = 6801\n",
      "INFO:tensorflow:global_step/sec: 252.924\n",
      "INFO:tensorflow:loss = 0.0945399, step = 6901\n",
      "INFO:tensorflow:global_step/sec: 254.205\n",
      "INFO:tensorflow:loss = 0.0705345, step = 7001\n",
      "INFO:tensorflow:global_step/sec: 259.133\n",
      "INFO:tensorflow:loss = 0.542031, step = 7101\n",
      "INFO:tensorflow:global_step/sec: 253.446\n",
      "INFO:tensorflow:loss = 0.240883, step = 7201\n",
      "INFO:tensorflow:global_step/sec: 252.112\n",
      "INFO:tensorflow:loss = 0.0721711, step = 7301\n",
      "INFO:tensorflow:global_step/sec: 252.274\n",
      "INFO:tensorflow:loss = 0.0664066, step = 7401\n",
      "INFO:tensorflow:global_step/sec: 251.367\n",
      "INFO:tensorflow:loss = 0.116379, step = 7501\n",
      "INFO:tensorflow:global_step/sec: 252.778\n",
      "INFO:tensorflow:loss = 0.122683, step = 7601\n",
      "INFO:tensorflow:global_step/sec: 251.963\n",
      "INFO:tensorflow:loss = 0.403081, step = 7701\n",
      "INFO:tensorflow:global_step/sec: 260.436\n",
      "INFO:tensorflow:loss = 0.144708, step = 7801\n",
      "INFO:tensorflow:global_step/sec: 250.455\n",
      "INFO:tensorflow:loss = 0.372486, step = 7901\n",
      "INFO:tensorflow:global_step/sec: 251.053\n",
      "INFO:tensorflow:loss = 0.0694691, step = 8001\n",
      "INFO:tensorflow:global_step/sec: 258.304\n",
      "INFO:tensorflow:loss = 0.124491, step = 8101\n",
      "INFO:tensorflow:global_step/sec: 260.048\n",
      "INFO:tensorflow:loss = 0.170059, step = 8201\n",
      "INFO:tensorflow:global_step/sec: 252.351\n",
      "INFO:tensorflow:loss = 0.347948, step = 8301\n",
      "INFO:tensorflow:global_step/sec: 251.131\n",
      "INFO:tensorflow:loss = 0.250776, step = 8401\n",
      "INFO:tensorflow:global_step/sec: 194.607\n",
      "INFO:tensorflow:loss = 0.0757705, step = 8501\n",
      "INFO:tensorflow:global_step/sec: 208.858\n",
      "INFO:tensorflow:loss = 0.16681, step = 8601\n",
      "INFO:tensorflow:global_step/sec: 204.979\n",
      "INFO:tensorflow:loss = 0.157164, step = 8701\n",
      "INFO:tensorflow:global_step/sec: 222.46\n",
      "INFO:tensorflow:loss = 0.0764144, step = 8801\n",
      "INFO:tensorflow:global_step/sec: 221.023\n",
      "INFO:tensorflow:loss = 0.276254, step = 8901\n",
      "INFO:tensorflow:global_step/sec: 241.178\n",
      "INFO:tensorflow:loss = 0.370849, step = 9001\n",
      "INFO:tensorflow:global_step/sec: 194.744\n",
      "INFO:tensorflow:loss = 0.318496, step = 9101\n",
      "INFO:tensorflow:global_step/sec: 185.667\n",
      "INFO:tensorflow:loss = 0.133116, step = 9201\n",
      "INFO:tensorflow:global_step/sec: 174.483\n",
      "INFO:tensorflow:loss = 0.284458, step = 9301\n",
      "INFO:tensorflow:global_step/sec: 167.389\n",
      "INFO:tensorflow:loss = 0.169422, step = 9401\n",
      "INFO:tensorflow:global_step/sec: 175.713\n",
      "INFO:tensorflow:loss = 0.32295, step = 9501\n",
      "INFO:tensorflow:global_step/sec: 193.355\n",
      "INFO:tensorflow:loss = 0.119141, step = 9601\n",
      "INFO:tensorflow:global_step/sec: 198.609\n",
      "INFO:tensorflow:loss = 0.171703, step = 9701\n",
      "INFO:tensorflow:global_step/sec: 211.5\n",
      "INFO:tensorflow:loss = 0.0160174, step = 9801\n",
      "INFO:tensorflow:global_step/sec: 181.117\n",
      "INFO:tensorflow:loss = 0.278146, step = 9901\n",
      "INFO:tensorflow:Saving checkpoints for 10000 into /var/folders/k9/2cxh1k2115s_lw4wtq9mzj9m0000gp/T/tmpkcz6y_lp/model.ckpt.\n",
      "INFO:tensorflow:Loss for final step: 0.0557858.\n"
     ]
    },
    {
     "data": {
      "text/plain": [
       "DNNClassifier(params={'head': <tensorflow.contrib.learn.python.learn.estimators.head._MultiClassHead object at 0x121aedd30>, 'hidden_units': [300, 100], 'feature_columns': (_RealValuedColumn(column_name='', dimension=784, default_value=None, dtype=tf.uint8, normalizer=None),), 'optimizer': None, 'activation_fn': <function relu at 0x1210d2c80>, 'dropout': None, 'gradient_clip_norm': None, 'embedding_lr_multipliers': None, 'input_layer_min_slice_size': None})"
      ]
     },
     "execution_count": 3,
     "metadata": {},
     "output_type": "execute_result"
    }
   ],
   "source": [
    "feature_columns = tf.contrib.learn.infer_real_valued_columns_from_input(X_train)\n",
    "dnn_clf = tf.contrib.learn.DNNClassifier(hidden_units=[300, 100],n_classes=10,\n",
    "                                        feature_columns=feature_columns)\n",
    "dnn_clf.fit(x=X_train, y=y_train, batch_size=50, steps=10000)"
   ]
  },
  {
   "cell_type": "code",
   "execution_count": 4,
   "metadata": {
    "collapsed": false
   },
   "outputs": [
    {
     "name": "stdout",
     "output_type": "stream",
     "text": [
      "WARNING:tensorflow:From /Users/gaufung/anaconda/lib/python3.6/site-packages/tensorflow/contrib/learn/python/learn/estimators/dnn.py:374: calling BaseEstimator.predict (from tensorflow.contrib.learn.python.learn.estimators.estimator) with x is deprecated and will be removed after 2016-12-01.\n",
      "Instructions for updating:\n",
      "Estimator is decoupled from Scikit Learn interface by moving into\n",
      "separate class SKCompat. Arguments x, y and batch_size are only\n",
      "available in the SKCompat class, Estimator will only accept input_fn.\n",
      "Example conversion:\n",
      "  est = Estimator(...) -> est = SKCompat(Estimator(...))\n"
     ]
    },
    {
     "name": "stderr",
     "output_type": "stream",
     "text": [
      "/Users/gaufung/anaconda/lib/python3.6/site-packages/tensorflow/python/util/deprecation.py:247: FutureWarning: comparison to `None` will result in an elementwise object comparison in the future.\n",
      "  equality = a == b\n"
     ]
    },
    {
     "data": {
      "text/plain": [
       "0.93710000000000004"
      ]
     },
     "execution_count": 4,
     "metadata": {},
     "output_type": "execute_result"
    }
   ],
   "source": [
    "from sklearn.metrics import accuracy_score\n",
    "y_pred = list(dnn_clf.predict(X_test))\n",
    "accuracy_score(y_pred, y_test)"
   ]
  },
  {
   "cell_type": "markdown",
   "metadata": {},
   "source": [
    "# Training a DNN Using Plain Tensorflow"
   ]
  },
  {
   "cell_type": "markdown",
   "metadata": {},
   "source": [
    "## Construction Graph"
   ]
  },
  {
   "cell_type": "code",
   "execution_count": 1,
   "metadata": {
    "collapsed": true
   },
   "outputs": [],
   "source": [
    "n_inputs = 28 * 28\n",
    "n_hidden1 = 300\n",
    "n_hidden2 = 100\n",
    "n_outputs = 10"
   ]
  },
  {
   "cell_type": "code",
   "execution_count": 5,
   "metadata": {
    "collapsed": false
   },
   "outputs": [],
   "source": [
    "import tensorflow as tf\n",
    "import numpy as np\n",
    "X = tf.placeholder(tf.float32, shape=(None, n_inputs), name='X')\n",
    "y = tf.placeholder(tf.int64, shape=(None), name='y')"
   ]
  },
  {
   "cell_type": "code",
   "execution_count": 6,
   "metadata": {
    "collapsed": true
   },
   "outputs": [],
   "source": [
    "def neuron_layer(X, n_neurons, name, activation=None):\n",
    "    with tf.name_scope(name):\n",
    "        n_inputs = int(X.get_shape()[1])\n",
    "        stddev = 2 / np.sqrt(n_inputs)\n",
    "        init = tf.truncated_normal((n_inputs, n_neurons), stddev=stddev)\n",
    "        W = tf.Variable(init, name='weights')\n",
    "        b = tf.Variable(tf.zeros([n_neurons]), name='bias')\n",
    "        z = tf.matmul(X, W) + b\n",
    "        if activation == 'relu':\n",
    "            return tf.nn.relu(z)\n",
    "        else:\n",
    "            return z"
   ]
  },
  {
   "cell_type": "code",
   "execution_count": 7,
   "metadata": {
    "collapsed": false
   },
   "outputs": [],
   "source": [
    "with tf.name_scope('dnn'):\n",
    "    hidden1 = neuron_layer(X, n_hidden1, 'hidden1', activation='relu')\n",
    "    hidden2 = neuron_layer(hidden1, n_hidden2, 'hidden2', activation='relu')\n",
    "    logits = neuron_layer(hidden2, n_outputs, 'outputs')"
   ]
  },
  {
   "cell_type": "code",
   "execution_count": 8,
   "metadata": {
    "collapsed": false
   },
   "outputs": [],
   "source": [
    "from tensorflow.contrib.layers import fully_connected\n",
    "with tf.name_scope('dnn'):\n",
    "    hidden1 = fully_connected(X, n_hidden1, scope='hidden1')\n",
    "    hidden2 = fully_connected(hidden1, n_hidden2, scope='hidden2')\n",
    "    logits = fully_connected(hidden2, n_outputs, scope='outputs', activation_fn=None)"
   ]
  },
  {
   "cell_type": "code",
   "execution_count": 9,
   "metadata": {
    "collapsed": false
   },
   "outputs": [],
   "source": [
    "with tf.name_scope('loss'):\n",
    "    xentropy = tf.nn.sparse_softmax_cross_entropy_with_logits(\n",
    "        labels=y, logits=logits)\n",
    "    loss = tf.reduce_mean(xentropy)"
   ]
  },
  {
   "cell_type": "code",
   "execution_count": 10,
   "metadata": {
    "collapsed": true
   },
   "outputs": [],
   "source": [
    "learning_rate = 0.01\n",
    "with tf.name_scope('train'):\n",
    "    optimizer = tf.train.GradientDescentOptimizer(learning_rate)\n",
    "    train_op = optimizer.minimize(loss)"
   ]
  },
  {
   "cell_type": "code",
   "execution_count": 11,
   "metadata": {
    "collapsed": true
   },
   "outputs": [],
   "source": [
    "with tf.name_scope('eval'):\n",
    "    correct = tf.nn.in_top_k(logits, y, 1)\n",
    "    accuracy = tf.reduce_mean(tf.cast(correct, tf.float32))"
   ]
  },
  {
   "cell_type": "code",
   "execution_count": 12,
   "metadata": {
    "collapsed": true
   },
   "outputs": [],
   "source": [
    "init = tf.global_variables_initializer()\n",
    "saver = tf.train.Saver()"
   ]
  },
  {
   "cell_type": "markdown",
   "metadata": {},
   "source": [
    "## Execution Phase"
   ]
  },
  {
   "cell_type": "code",
   "execution_count": 13,
   "metadata": {
    "collapsed": false
   },
   "outputs": [],
   "source": [
    "import numpy as np\n",
    "from sklearn.datasets import fetch_mldata\n",
    "from sklearn.preprocessing import StandardScaler\n",
    "mnist = fetch_mldata('MNIST original')\n",
    "scaler = StandardScaler()\n",
    "data = scaler.fit_transform(mnist['data'].astype(np.float64))\n",
    "target = mnist['target'].astype(np.int32)\n",
    "X_train = data[:60000]\n",
    "X_test = data[60000:]\n",
    "y_train = target[:60000]\n",
    "y_test = target[60000:]"
   ]
  },
  {
   "cell_type": "code",
   "execution_count": 14,
   "metadata": {
    "collapsed": true
   },
   "outputs": [],
   "source": [
    "def fetch_batch(epoch, batch, batch_size):\n",
    "    np.random.seed(epoch * batch + 42)\n",
    "    indice = np.random.randint(60000, size=batch_size)\n",
    "    return X_train[indice], y_train[indice]"
   ]
  },
  {
   "cell_type": "code",
   "execution_count": 16,
   "metadata": {
    "collapsed": false
   },
   "outputs": [
    {
     "name": "stdout",
     "output_type": "stream",
     "text": [
      "0 Train accuracy: 1.0 Test accurary 0.4982\n",
      "1 Train accuracy: 0.88 Test accurary 0.8193\n",
      "2 Train accuracy: 0.9 Test accurary 0.864\n",
      "3 Train accuracy: 0.9 Test accurary 0.888\n",
      "4 Train accuracy: 0.88 Test accurary 0.8992\n",
      "5 Train accuracy: 0.96 Test accurary 0.9051\n",
      "6 Train accuracy: 0.98 Test accurary 0.9079\n",
      "7 Train accuracy: 0.94 Test accurary 0.9161\n",
      "8 Train accuracy: 0.92 Test accurary 0.9186\n",
      "9 Train accuracy: 0.9 Test accurary 0.9218\n",
      "10 Train accuracy: 0.98 Test accurary 0.9232\n",
      "11 Train accuracy: 0.96 Test accurary 0.9263\n",
      "12 Train accuracy: 0.98 Test accurary 0.9302\n",
      "13 Train accuracy: 0.94 Test accurary 0.9315\n",
      "14 Train accuracy: 0.98 Test accurary 0.9323\n",
      "15 Train accuracy: 0.94 Test accurary 0.9349\n",
      "16 Train accuracy: 0.96 Test accurary 0.9343\n",
      "17 Train accuracy: 0.96 Test accurary 0.9381\n",
      "18 Train accuracy: 0.96 Test accurary 0.9385\n",
      "19 Train accuracy: 0.98 Test accurary 0.9404\n",
      "20 Train accuracy: 0.98 Test accurary 0.9418\n",
      "21 Train accuracy: 0.98 Test accurary 0.9427\n",
      "22 Train accuracy: 0.96 Test accurary 0.9442\n",
      "23 Train accuracy: 0.98 Test accurary 0.9438\n",
      "24 Train accuracy: 0.98 Test accurary 0.945\n",
      "25 Train accuracy: 0.98 Test accurary 0.9454\n",
      "26 Train accuracy: 0.94 Test accurary 0.9469\n",
      "27 Train accuracy: 0.96 Test accurary 0.9483\n",
      "28 Train accuracy: 0.96 Test accurary 0.9484\n",
      "29 Train accuracy: 0.98 Test accurary 0.9482\n",
      "30 Train accuracy: 0.96 Test accurary 0.9503\n",
      "31 Train accuracy: 0.96 Test accurary 0.9502\n",
      "32 Train accuracy: 0.92 Test accurary 0.9488\n",
      "33 Train accuracy: 1.0 Test accurary 0.9501\n",
      "34 Train accuracy: 0.96 Test accurary 0.9519\n",
      "35 Train accuracy: 0.98 Test accurary 0.9534\n",
      "36 Train accuracy: 0.96 Test accurary 0.9522\n",
      "37 Train accuracy: 0.96 Test accurary 0.9529\n",
      "38 Train accuracy: 0.98 Test accurary 0.953\n",
      "39 Train accuracy: 0.94 Test accurary 0.9532\n",
      "40 Train accuracy: 1.0 Test accurary 0.9556\n",
      "41 Train accuracy: 0.96 Test accurary 0.9553\n",
      "42 Train accuracy: 0.94 Test accurary 0.9545\n",
      "43 Train accuracy: 0.94 Test accurary 0.9556\n",
      "44 Train accuracy: 1.0 Test accurary 0.9568\n",
      "45 Train accuracy: 0.98 Test accurary 0.958\n",
      "46 Train accuracy: 0.94 Test accurary 0.9575\n",
      "47 Train accuracy: 0.94 Test accurary 0.9561\n",
      "48 Train accuracy: 0.96 Test accurary 0.9584\n",
      "49 Train accuracy: 1.0 Test accurary 0.9574\n",
      "50 Train accuracy: 1.0 Test accurary 0.958\n",
      "51 Train accuracy: 1.0 Test accurary 0.9584\n",
      "52 Train accuracy: 1.0 Test accurary 0.9585\n",
      "53 Train accuracy: 1.0 Test accurary 0.9587\n",
      "54 Train accuracy: 0.96 Test accurary 0.9576\n",
      "55 Train accuracy: 1.0 Test accurary 0.9597\n",
      "56 Train accuracy: 0.94 Test accurary 0.9596\n",
      "57 Train accuracy: 0.98 Test accurary 0.9599\n",
      "58 Train accuracy: 1.0 Test accurary 0.9598\n",
      "59 Train accuracy: 0.96 Test accurary 0.9611\n",
      "60 Train accuracy: 0.98 Test accurary 0.9608\n",
      "61 Train accuracy: 0.98 Test accurary 0.9629\n",
      "62 Train accuracy: 0.98 Test accurary 0.9616\n",
      "63 Train accuracy: 0.98 Test accurary 0.962\n",
      "64 Train accuracy: 0.98 Test accurary 0.9611\n",
      "65 Train accuracy: 0.98 Test accurary 0.9613\n",
      "66 Train accuracy: 0.98 Test accurary 0.9616\n",
      "67 Train accuracy: 1.0 Test accurary 0.962\n",
      "68 Train accuracy: 0.98 Test accurary 0.9622\n",
      "69 Train accuracy: 1.0 Test accurary 0.9619\n",
      "70 Train accuracy: 0.98 Test accurary 0.9636\n",
      "71 Train accuracy: 1.0 Test accurary 0.9639\n",
      "72 Train accuracy: 0.98 Test accurary 0.9643\n",
      "73 Train accuracy: 0.98 Test accurary 0.9637\n",
      "74 Train accuracy: 0.98 Test accurary 0.9641\n",
      "75 Train accuracy: 1.0 Test accurary 0.9636\n",
      "76 Train accuracy: 1.0 Test accurary 0.9634\n",
      "77 Train accuracy: 1.0 Test accurary 0.9644\n",
      "78 Train accuracy: 0.96 Test accurary 0.9653\n",
      "79 Train accuracy: 0.98 Test accurary 0.9651\n",
      "80 Train accuracy: 1.0 Test accurary 0.965\n",
      "81 Train accuracy: 0.98 Test accurary 0.9649\n",
      "82 Train accuracy: 1.0 Test accurary 0.9652\n",
      "83 Train accuracy: 0.98 Test accurary 0.965\n",
      "84 Train accuracy: 1.0 Test accurary 0.9647\n",
      "85 Train accuracy: 1.0 Test accurary 0.965\n",
      "86 Train accuracy: 1.0 Test accurary 0.9647\n",
      "87 Train accuracy: 1.0 Test accurary 0.9648\n",
      "88 Train accuracy: 0.98 Test accurary 0.9656\n",
      "89 Train accuracy: 0.98 Test accurary 0.9656\n",
      "90 Train accuracy: 1.0 Test accurary 0.9652\n",
      "91 Train accuracy: 1.0 Test accurary 0.9654\n",
      "92 Train accuracy: 0.98 Test accurary 0.9653\n",
      "93 Train accuracy: 0.98 Test accurary 0.9661\n",
      "94 Train accuracy: 0.98 Test accurary 0.9657\n",
      "95 Train accuracy: 0.98 Test accurary 0.9671\n",
      "96 Train accuracy: 0.98 Test accurary 0.9661\n",
      "97 Train accuracy: 1.0 Test accurary 0.9669\n",
      "98 Train accuracy: 0.98 Test accurary 0.9677\n",
      "99 Train accuracy: 1.0 Test accurary 0.9678\n"
     ]
    }
   ],
   "source": [
    "n_epochs = 100\n",
    "batch_size = 50\n",
    "n_batch = int(6000/50)\n",
    "with tf.Session() as sess:\n",
    "    init.run()\n",
    "    for epoch in range(n_epochs):\n",
    "        for batch_idx in range(n_batch):\n",
    "            X_batch, y_batch = fetch_batch(epoch, batch_idx, batch_size)\n",
    "            sess.run(train_op, feed_dict={X:X_batch, y:y_batch})\n",
    "        acc_train = accuracy.eval(feed_dict={X:X_batch, y:y_batch})\n",
    "        acc_test = accuracy.eval(feed_dict={X:X_test, y:y_test})\n",
    "        print(epoch, 'Train accuracy:', acc_train, 'Test accurary', acc_test)\n",
    "    save_pth = saver.save(sess, './my_model_final.ckpt')"
   ]
  },
  {
   "cell_type": "markdown",
   "metadata": {},
   "source": [
    "## Using the Neural Network"
   ]
  },
  {
   "cell_type": "code",
   "execution_count": 17,
   "metadata": {
    "collapsed": true
   },
   "outputs": [],
   "source": [
    "with tf.Session() as sess:\n",
    "    saver.restore(sess, './my_model_final.ckpt')\n",
    "    Z = logits.eval(feed_dict={X:X_test})\n",
    "    y_pred = np.argmax(Z, axis=1)"
   ]
  },
  {
   "cell_type": "code",
   "execution_count": 19,
   "metadata": {
    "collapsed": false
   },
   "outputs": [],
   "source": [
    "from sklearn.metrics import precision_score, recall_score\n",
    "def precison_and_recall(y_test, y_pred, label):\n",
    "    y_actual = (y_test == label)\n",
    "    y_predction = (y_pred == label)\n",
    "    return precision_score(y_actual, y_predction), recall_score(y_actual, y_predction)"
   ]
  },
  {
   "cell_type": "code",
   "execution_count": 21,
   "metadata": {
    "collapsed": false
   },
   "outputs": [
    {
     "name": "stdout",
     "output_type": "stream",
     "text": [
      "classification: 0 =>precision: 0.976744186047 recall: 0.985714285714\n",
      "classification: 1 =>precision: 0.981707317073 recall: 0.99295154185\n",
      "classification: 2 =>precision: 0.955555555556 recall: 0.958333333333\n",
      "classification: 3 =>precision: 0.961651917404 recall: 0.968316831683\n",
      "classification: 4 =>precision: 0.964682139253 recall: 0.973523421589\n",
      "classification: 5 =>precision: 0.956762749446 recall: 0.967488789238\n",
      "classification: 6 =>precision: 0.978925184405 recall: 0.969728601253\n",
      "classification: 7 =>precision: 0.970472440945 recall: 0.959143968872\n",
      "classification: 8 =>precision: 0.961025641026 recall: 0.962012320329\n",
      "classification: 9 =>precision: 0.968302658487 recall: 0.938553022795\n"
     ]
    }
   ],
   "source": [
    "for i in range(10):\n",
    "    precision, recall = precison_and_recall(y_test, y_pred, i)\n",
    "    print(\"classification:\", i, \"=>precision:\", precision, 'recall:', recall) b"
   ]
  }
 ],
 "metadata": {
  "kernelspec": {
   "display_name": "Python 3",
   "language": "python",
   "name": "python3"
  },
  "language_info": {
   "codemirror_mode": {
    "name": "ipython",
    "version": 3
   },
   "file_extension": ".py",
   "mimetype": "text/x-python",
   "name": "python",
   "nbconvert_exporter": "python",
   "pygments_lexer": "ipython3",
   "version": "3.6.0"
  }
 },
 "nbformat": 4,
 "nbformat_minor": 2
}
